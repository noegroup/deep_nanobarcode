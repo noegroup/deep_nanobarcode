{
 "cells": [
  {
   "cell_type": "code",
   "execution_count": 1,
   "id": "alternative-projector",
   "metadata": {},
   "outputs": [],
   "source": [
    "%config Completer.use_jedi = False\n",
    "%gui qt"
   ]
  },
  {
   "cell_type": "code",
   "execution_count": 2,
   "id": "transparent-provincial",
   "metadata": {},
   "outputs": [],
   "source": [
    "import numpy as np\n",
    "import matplotlib.pyplot as plt\n",
    "from matplotlib import cm\n",
    "from matplotlib import patches as mpatches\n",
    "from matplotlib import colors as mcol\n",
    "from matplotlib.ticker import PercentFormatter\n",
    "from mpl_toolkits.mplot3d.axes3d import Axes3D\n",
    "from mpl_toolkits.mplot3d import proj3d\n",
    "from PIL import Image\n",
    "from skimage import filters, feature, exposure, restoration\n",
    "import skimage.morphology as skmorph\n",
    "from skimage.segmentation import random_walker\n",
    "from scipy import ndimage as ndi\n",
    "import scipy as sp\n",
    "import tifffile\n",
    "import os\n",
    "import glob\n",
    "from tqdm.notebook import tqdm\n",
    "import json\n",
    "import pickle\n",
    "import importlib\n",
    "#from mayavi import mlab"
   ]
  },
  {
   "cell_type": "code",
   "execution_count": 3,
   "id": "developmental-canberra",
   "metadata": {},
   "outputs": [
    {
     "name": "stdout",
     "output_type": "stream",
     "text": [
      "Is cuda available: True\n",
      "CUDA version: 11.2\n",
      "PyTorch version: 1.9.0\n",
      "Cuda device name: GeForce RTX 3090\n"
     ]
    }
   ],
   "source": [
    "from dnn_classifier import network_components as nc\n",
    "from dnn_classifier import network_main as net_main\n",
    "from dnn_classifier import dataset_handler as dat\n",
    "from dnn_classifier import model"
   ]
  },
  {
   "cell_type": "code",
   "execution_count": 4,
   "id": "white-requirement",
   "metadata": {},
   "outputs": [],
   "source": [
    "import torch\n",
    "import torch.nn as nn"
   ]
  },
  {
   "cell_type": "code",
   "execution_count": 5,
   "id": "essential-board",
   "metadata": {},
   "outputs": [
    {
     "name": "stdout",
     "output_type": "stream",
     "text": [
      "/group/ag_cmb/mohsen_simtemp/data/silvio/machine_learning/new_input_mohsen_48h_whitened_gain_550.pkl\n",
      "./saved_networks/confocal_channel_net_11_trained_on_48h_whitened_gain_550.pth\n"
     ]
    }
   ],
   "source": [
    "series_number = 11\n",
    "\n",
    "working_dir = \"/group/ag_cmb/mohsen_simtemp/data/silvio/machine_learning/\"\n",
    "\n",
    "output_dir = \"./figures/series_\" + str(series_number) + \"/\"\n",
    "\n",
    "save_net_dir = \"./saved_networks/\"\n",
    "\n",
    "expression_times = [\"overnight\", \"24h\", \"48h\", \"72h\"]\n",
    "gains = [\"500\", \"550\", \"650\"]\n",
    "\n",
    "index_of_data = 2\n",
    "    \n",
    "dataset_expression_time = expression_times[index_of_data]\n",
    "dataset_scaling = [\"fixed\", \"linear\", \"whitened\", \"channel_whitened\"][2]\n",
    "dataset_gain = gains[1]\n",
    "\n",
    "ext_str = dataset_expression_time + \"_\" + dataset_scaling + \"_gain_\" + dataset_gain\n",
    "\n",
    "save_net_file_name = save_net_dir + \"confocal_channel_net_\" + str(series_number) + \"_trained_on_\" + ext_str + \".pth\"\n",
    "\n",
    "dataset_file_name = working_dir + \"new_input_mohsen_\" + ext_str + \".pkl\"\n",
    "\n",
    "print(dataset_file_name)\n",
    "print(save_net_file_name)\n",
    "\n",
    "image_dir = \"/group/ag_cmb/mohsen_simtemp/data/silvio/raw_lsm_data/\"\n",
    "\n",
    "with open(working_dir + 'image_database.json', 'r') as fp:\n",
    "    image_database = json.load(fp)"
   ]
  },
  {
   "cell_type": "code",
   "execution_count": 6,
   "id": "martial-surfing",
   "metadata": {},
   "outputs": [
    {
     "name": "stdout",
     "output_type": "stream",
     "text": [
      "loading data from /group/ag_cmb/mohsen_simtemp/data/silvio/machine_learning/new_input_mohsen_48h_whitened_gain_550.pkl...\n",
      "Brightness data loaded for: \n",
      "['ENDO', 'GFP', 'GalNact', 'KDEL', 'LifeAct', 'NLS', 'SNAP25', 'STX4', 'STX6', 'TOM70', 'Vti1a', 'Blank']\n",
      "Data for ENDO\n",
      "Brightness data size: (10, 10000)\n",
      "Brightness data mean: 2.481795082034223\n",
      "Brightness data std: 6.597398492798679\n",
      "Data for GFP\n",
      "Brightness data size: (10, 10000)\n",
      "Brightness data mean: 0.34132340221452606\n",
      "Brightness data std: 1.0836090659705717\n",
      "Data for GalNact\n",
      "Brightness data size: (10, 10000)\n",
      "Brightness data mean: 3.2154718639077466\n",
      "Brightness data std: 9.734387499187868\n",
      "Data for KDEL\n",
      "Brightness data size: (10, 10000)\n",
      "Brightness data mean: 1.9702317508354983\n",
      "Brightness data std: 5.884682936201093\n",
      "Data for LifeAct\n",
      "Brightness data size: (10, 10000)\n",
      "Brightness data mean: 0.9815113405196683\n",
      "Brightness data std: 2.7074464815733092\n",
      "Data for NLS\n",
      "Brightness data size: (10, 10000)\n",
      "Brightness data mean: 2.016398166514262\n",
      "Brightness data std: 4.452320079757331\n",
      "Data for SNAP25\n",
      "Brightness data size: (10, 10000)\n",
      "Brightness data mean: 3.0811750266524487\n",
      "Brightness data std: 6.135931333937674\n",
      "Data for STX4\n",
      "Brightness data size: (10, 10000)\n",
      "Brightness data mean: 3.1613680340086705\n",
      "Brightness data std: 10.044401231146718\n",
      "Data for STX6\n",
      "Brightness data size: (10, 10000)\n",
      "Brightness data mean: 2.118485987169885\n",
      "Brightness data std: 5.480832423335568\n",
      "Data for TOM70\n",
      "Brightness data size: (10, 10000)\n",
      "Brightness data mean: 1.1624542392839787\n",
      "Brightness data std: 2.923968316444244\n",
      "Data for Vti1a\n",
      "Brightness data size: (10, 10000)\n",
      "Brightness data mean: 1.0296036985173367\n",
      "Brightness data std: 3.511412998347153\n",
      "Data for Blank\n",
      "Brightness data size: (10, 100000)\n",
      "Brightness data mean: -0.0002264738733401755\n",
      "Brightness data std: 1.0118578140978\n",
      "Mean value of the input data = tensor([ 5.8683, -0.2910, -0.6538,  0.8040, -0.1573, -0.6063,  0.7643,  1.1374,\n",
      "         1.0738,  2.3302], device='cuda:0')\n",
      "Standard deviation of the input data = tensor([11.1695,  0.8332,  0.4024,  0.3182,  1.6587,  0.5296,  0.3011,  5.1660,\n",
      "         0.8026,  3.8350], device='cuda:0')\n"
     ]
    }
   ],
   "source": [
    "data_handler = dat.MyFluorophoreDataset(brightness_data_file_name=dataset_file_name,\n",
    "                                        do_brightness_augmentation=True,\n",
    "                                        brightness_augmentation_factor=0.3)"
   ]
  },
  {
   "cell_type": "code",
   "execution_count": 7,
   "id": "settled-model",
   "metadata": {},
   "outputs": [],
   "source": [
    "save_figures = True"
   ]
  },
  {
   "cell_type": "code",
   "execution_count": 8,
   "id": "damaged-alias",
   "metadata": {},
   "outputs": [
    {
     "name": "stdout",
     "output_type": "stream",
     "text": [
      "{'width': 64, 'n_middle_layers': 3, 'resnet_stride': 3, 'cardinality': 4, 'batch_size': 458, 'lr': 0.00014860544347674695, 'use_resnet': True, 'use_dropout': False, 'dropout_rate': 0.2, 'use_bn': True}\n"
     ]
    }
   ],
   "source": [
    "best_parameters = np.load(save_net_dir + 'best_params_alfa.npy', allow_pickle=True).item()\n",
    "\n",
    "print(best_parameters)"
   ]
  },
  {
   "cell_type": "code",
   "execution_count": 9,
   "id": "friendly-bishop",
   "metadata": {},
   "outputs": [],
   "source": [
    "net, train_loader, test_loader, optimizer = model.model_factory(data_handler, *model.separate_args(best_parameters))"
   ]
  },
  {
   "cell_type": "code",
   "execution_count": 10,
   "id": "demographic-interference",
   "metadata": {},
   "outputs": [
    {
     "data": {
      "text/plain": [
       "<All keys matched successfully>"
      ]
     },
     "execution_count": 10,
     "metadata": {},
     "output_type": "execute_result"
    }
   ],
   "source": [
    "net.load_state_dict(torch.load(save_net_file_name))"
   ]
  },
  {
   "cell_type": "code",
   "execution_count": 11,
   "id": "occasional-promise",
   "metadata": {},
   "outputs": [
    {
     "name": "stdout",
     "output_type": "stream",
     "text": [
      "Training accuracy = 97.01164879882917 %\n"
     ]
    }
   ],
   "source": [
    "avg_accuracy, class_accuracy, false_positive, false_negative = model.calc_accuracy(net, train_loader,\n",
    "                                                                                  data_handler.n_proteins,\n",
    "                                                                                  full_output=True)\n",
    "\n",
    "print(f\"Training accuracy = {avg_accuracy * 100.0} %\")"
   ]
  },
  {
   "cell_type": "code",
   "execution_count": 12,
   "id": "announced-eagle",
   "metadata": {},
   "outputs": [
    {
     "name": "stdout",
     "output_type": "stream",
     "text": [
      "['ENDO', 'GFP', 'GalNact', 'KDEL', 'LifeAct', 'NLS', 'SNAP25', 'STX4', 'STX6', 'TOM70', 'Vti1a', 'Blank']\n"
     ]
    }
   ],
   "source": [
    "def mpl_color (color_name):\n",
    "\n",
    "    hex_color = mcol.get_named_colors_mapping()[color_name]\n",
    "    h = hex_color.lstrip('#')\n",
    "    \n",
    "    rgbs = list(float(int(h[i:i + 2], 16)) / 255.0 for i in (0, 2 ,4))\n",
    "    rgbs.append(1.0)\n",
    "    \n",
    "    return rgbs\n",
    "\n",
    "print(data_handler.protein_names)\n",
    "\n",
    "#protein_color = cm.tab20(np.linspace(0.0, 1.0, data_handler.n_proteins))\n",
    "\n",
    "protein_color = dict()\n",
    "\n",
    "protein_color[\"Vti1a\"] = mpl_color('xkcd:magenta')\n",
    "protein_color[\"GFP\"] = mpl_color('xkcd:lime')\n",
    "protein_color[\"TOM70\"] = mpl_color('xkcd:lilac')#mpl_color('xkcd:slate blue')\n",
    "protein_color[\"SNAP25\"] = mpl_color('xkcd:burgundy')\n",
    "#protein_color(\"Rab5a\"] = mpl_color('xkcd:light orange')\n",
    "protein_color[\"STX4\"] = mpl_color('xkcd:dark orange')\n",
    "protein_color[\"STX6\"] = mpl_color('xkcd:light red')\n",
    "protein_color[\"LifeAct\"] = mpl_color('xkcd:dark sky blue')#mpl_color('xkcd:navy')\n",
    "protein_color[\"NLS\"] = mpl_color('xkcd:dark yellow')\n",
    "protein_color[\"KDEL\"] = mpl_color('xkcd:moss')\n",
    "protein_color[\"GalNact\"] = mpl_color('xkcd:beige')\n",
    "protein_color[\"ENDO\"] = mpl_color('xkcd:bright yellow')#mpl_color('xkcd:blue')\n",
    "protein_color[\"Blank\"] = np.array([0.0, 0.0, 0.0, 1.0])\n",
    "edge_color = np.array([0.3, 0.3, 0.3, 1.0])\n",
    "\n",
    "for protein_name in data_handler.protein_names:\n",
    "    assert list(protein_color.keys()).index(protein_name) != -1"
   ]
  },
  {
   "cell_type": "code",
   "execution_count": 13,
   "id": "lyric-dominican",
   "metadata": {},
   "outputs": [],
   "source": [
    "def scale_image_fixed(image):\n",
    "    \n",
    "    return image / 65535.0\n",
    "\n",
    "def scale_image_linear(image):\n",
    "    \n",
    "    _max = np.amax(image)\n",
    "    _min = np.amin(image)\n",
    "    \n",
    "    if _max > _min:\n",
    "        return (image - _min) / (_max - _min)\n",
    "    else:\n",
    "        return image - _min\n",
    "\n",
    "def scale_image_whitened(image):\n",
    "    \n",
    "    return (image - np.mean(image)) / np.std(image)\n",
    "\n",
    "def scale_image_channel_whitened(image):\n",
    "    \n",
    "    _im = image.copy()\n",
    "    \n",
    "    channel_mean = np.mean(image, axis=1)\n",
    "    channel_std = np.std(image, axis=1)\n",
    "    \n",
    "    assert _im.shape[0] == 10\n",
    "    \n",
    "    for i in range(_im.shape[0]):\n",
    "        _im[i, :] = (_im[i, :] - channel_mean[i]) / channel_std[i]\n",
    "\n",
    "    return _im"
   ]
  },
  {
   "cell_type": "code",
   "execution_count": 14,
   "id": "statistical-decision",
   "metadata": {},
   "outputs": [],
   "source": [
    "def get_cell_background(brightfield_image):\n",
    "            \n",
    "        brightfield_image = (brightfield_image - np.mean(brightfield_image)) / np.std(brightfield_image)\n",
    "\n",
    "        bff = np.fft.fft2(brightfield_image)\n",
    "\n",
    "        window = sp.signal.windows.gaussian(brightfield_image.shape[0], std=170.0)\n",
    "        window = np.outer(window, window)\n",
    "\n",
    "        bff *= window\n",
    "\n",
    "        brightfield_image_enhanced = scale_image_linear(np.exp(-scale_image_linear(np.real(np.fft.ifft2(bff))) ** 2 / 0.2))\n",
    "\n",
    "        seed = np.copy(brightfield_image_enhanced)\n",
    "        seed[1:-1, 1:-1] = brightfield_image_enhanced.min()\n",
    "        mask = brightfield_image_enhanced\n",
    "\n",
    "        dilated = skmorph.reconstruction(seed, mask, method='dilation')\n",
    "        cells = np.clip((scale_image_linear(brightfield_image_enhanced - dilated) - 0.03) * 200.0, 0.0, 1.0)\n",
    "\n",
    "        cells = restoration.denoise_tv_bregman(cells, weight=0.4)\n",
    "\n",
    "#             binary_mask = (cells > filters.threshold_otsu(cells)).astype(np.float32)\n",
    "\n",
    "#             binary_mask = skmorph.erosion(binary_mask, selem2)\n",
    "#             binary_mask = skmorph.closing(binary_mask, selem1)\n",
    "        #binary_mask = skmorph.dilation(binary_mask, selem2)\n",
    "\n",
    "#             markers = np.zeros(brightfield_image.shape, dtype=np.uint)\n",
    "#             markers[brightfield_image < 0.01] = 1\n",
    "#             markers[brightfield_image > 0.99] = 2\n",
    "\n",
    "#             cell_edge = random_walker(brightfield_image, markers, beta=10, mode='bf')       \n",
    "\n",
    "#             cell_edge = scale_image(filters.roberts(brightfield_image_enhanced).astype(np.float32))\n",
    "#             cell_edge = cells#feature.canny(binary_mask).astype(np.float32)\n",
    "\n",
    "        return cells\n",
    "\n",
    "def crop_file_name(full_file_name):\n",
    "    \n",
    "    last_slash_ind = len(full_file_name) - 1\n",
    "\n",
    "    while full_file_name[last_slash_ind] != \"/\":\n",
    "        last_slash_ind -= 1\n",
    "    \n",
    "    cropped_name = full_file_name[last_slash_ind + 1:-4]\n",
    "    \n",
    "    return cropped_name"
   ]
  },
  {
   "cell_type": "code",
   "execution_count": 15,
   "id": "a1de4224",
   "metadata": {},
   "outputs": [],
   "source": [
    "def predict_image_from_file(file_name, pred_threshold=0.0):\n",
    "    \n",
    "    ind_filter = [0, 1, 2, 3, 5, 6, 7, 8, 9, 10]\n",
    "\n",
    "    cropped_name = crop_file_name(file_name)\n",
    "    \n",
    "    protein_name = \"UNKNOWN\"\n",
    "    \n",
    "    for _pr in data_handler.protein_names:\n",
    "        if cropped_name.find(_pr) != -1:\n",
    "            protein_name = _pr\n",
    "    \n",
    "#     if cropped_name.find(\"Blank\") != -1:\n",
    "#         protein_name = \"MOCK\"\n",
    "    \n",
    "    raw_image_from_file = tifffile.imread(file_name)\n",
    "    \n",
    "    if raw_image_from_file.ndim == 3:\n",
    "        raw_image_from_file = raw_image_from_file.reshape((1, 1, *raw_image_from_file.shape))\n",
    "    elif raw_image_from_file.ndim == 4:\n",
    "        raw_image_from_file = raw_image_from_file.reshape((1, *raw_image_from_file.shape))\n",
    "        \n",
    "    raw_image_stack = raw_image_from_file[0, :, :, :, :].copy()\n",
    "    \n",
    "    brightfield_stack = raw_image_stack[:, 4, :, :].copy().astype(np.float32)\n",
    "    raw_image_stack = raw_image_stack[:, ind_filter, :, :].copy().astype(np.float32)\n",
    "    \n",
    "    raw_image_brightness = np.clip(scale_image_linear(np.sum(np.abs(raw_image_stack), axis=1)), 0.0, 1.0)\n",
    "    \n",
    "    image_size = brightfield_stack.shape[1:]\n",
    "   \n",
    "    false_color_stack = []\n",
    "    cell_edge_false_color_stack = []\n",
    "    unprocessed_false_color_stack = []\n",
    "    \n",
    "    for image_slice, brightfield_slice, image_brightenss_slice in zip(raw_image_stack,\n",
    "                                                                      brightfield_stack,\n",
    "                                                                      raw_image_brightness):\n",
    "        \n",
    "        try:\n",
    "            image_slice_scaled = globals()[\"scale_image_\" + dataset_scaling](image_slice)\n",
    "        except:        \n",
    "            raise ValueError(\"Type of dataset scaling is unknown!\")\n",
    "            \n",
    "        false_color_image = np.zeros((*image_size, 4))\n",
    "        unprocessed_false_color_image = np.zeros((*image_size, 4))\n",
    "        \n",
    "        unprocessed_false_color_image[:, :, 3] = 1.0\n",
    "        \n",
    "        normalizing_layer = nn.Softmax(dim=-1)\n",
    "        \n",
    "        net.eval()\n",
    "\n",
    "        with torch.no_grad():\n",
    "\n",
    "            _im = image_slice_scaled.copy().reshape(dat.n_channels, -1).transpose().astype(np.float32)\n",
    "\n",
    "            input_data = torch.from_numpy(_im).float().to(nc.cuda_0)\n",
    "            raw_output = net(input_data)\n",
    "            predicted = normalizing_layer(raw_output).cpu().numpy()\n",
    "            \n",
    "            entropy = np.mean(np.sum(-predicted * np.log(predicted + 1.0e-16), axis=1))\n",
    "\n",
    "        correct_pick = 0.0\n",
    "        wrong_pick = 0.0\n",
    "\n",
    "        for i, data_protein_name in enumerate(data_handler.protein_names):\n",
    "\n",
    "            # the intended protein in the single-transfect slice\n",
    "            if data_protein_name == protein_name:\n",
    "                correct_pick += np.sum(predicted[:, i])\n",
    "\n",
    "                # make a simple false-color image based on the brightness of the original images when the protein-name is known\n",
    "                for ch in range(3):\n",
    "                    unprocessed_false_color_image[:, :, ch] = image_brightenss_slice[:, :] * protein_color[protein_name][ch]\n",
    "            \n",
    "            elif data_protein_name != 'Blank':\n",
    "                wrong_pick += np.sum(predicted[:, i])\n",
    "            \n",
    "            predicted[predicted[:, i] < pred_threshold, i] = 0.0\n",
    "            \n",
    "            filtered_image = predicted[:, i].reshape(image_size)\n",
    "\n",
    "            for ch in range(4):\n",
    "                false_color_image[:, :, ch] += filtered_image[:, :] * protein_color[data_protein_name][ch]\n",
    "\n",
    "#             false_color_image = scale_image_linear(false_color_image)\n",
    "        \n",
    "        # Getting the cell halos from the bright-field image\n",
    "        cell_edge = scale_image_linear(get_cell_background(brightfield_slice))\n",
    "        \n",
    "        cell_edge_false_color_image = false_color_image.copy()\n",
    "        \n",
    "        for ch in range(4):\n",
    "            cell_edge_false_color_image[:, :, ch] += cell_edge[:, :] * edge_color[ch]        \n",
    "        \n",
    "        false_color_image = np.clip(false_color_image, 0.0, 1.0)\n",
    "        cell_edge_false_color_image = np.clip(cell_edge_false_color_image, 0.0, 1.0)\n",
    "\n",
    "        false_color_stack.append(false_color_image.copy())\n",
    "        cell_edge_false_color_stack.append(cell_edge_false_color_image.copy())\n",
    "        unprocessed_false_color_stack.append(unprocessed_false_color_image.copy())\n",
    "        \n",
    "    false_color_stack = (np.array(false_color_stack) * 65535.0).astype(np.uint16)\n",
    "    cell_edge_false_color_stack = (np.array(cell_edge_false_color_stack) * 65535.0).astype(np.uint16)\n",
    "    unprocessed_false_color_stack = (np.array(unprocessed_false_color_stack) * 65535.0).astype(np.uint16)\n",
    "    \n",
    "    accuracy = correct_pick / (correct_pick + wrong_pick)\n",
    "    \n",
    "    return cropped_name, protein_name,\\\n",
    "            false_color_stack, cell_edge_false_color_stack, unprocessed_false_color_stack,\\\n",
    "            entropy, accuracy"
   ]
  },
  {
   "cell_type": "code",
   "execution_count": 16,
   "id": "04b0d294",
   "metadata": {},
   "outputs": [],
   "source": [
    "def render_tomo(false_color_stack, save_figure_dir, cropped_name, pixel_size_z):\n",
    "    \n",
    "    assert false_color_stack.shape[1] == false_color_stack.shape[2]\n",
    "    \n",
    "    xx, yy = np.meshgrid(np.linspace(0.0, 1.0, false_color_stack.shape[1]),\n",
    "                         np.linspace(0.0, 1.0, false_color_stack.shape[2]))\n",
    "\n",
    "    fig = plt.figure(figsize=(10, 10))\n",
    "    plt.tight_layout()\n",
    "\n",
    "    ax = fig.add_subplot(projection='3d', frame_on=True)\n",
    "    #fig.subplots_adjust(top=1.5, bottom=-0.5, wspace=0.0)\n",
    "    fig.subplots_adjust(top=1.0, bottom=0.0, left=0.0, right=1.0, wspace=0.0, hspace=0.0)\n",
    "\n",
    "    z = 0.0\n",
    "    \n",
    "    #pixel size in x and y direction is 300 nm\n",
    "    dz = 1.0 / float(false_color_stack.shape[1]) * pixel_size_z / 300.0# * 0.5\n",
    "    #dz = 0.03 * 17.0 / float(false_color_stack.shape[0])\n",
    "\n",
    "    ax.set_facecolor('black')\n",
    "\n",
    "    _box_color = 'white'\n",
    "\n",
    "    _z = 0.0\n",
    "\n",
    "    ax.plot3D([0.0, 0.0], [0.0, 1.0], [_z, _z], color=_box_color, zorder=-1)\n",
    "    ax.plot3D([0.0, 1.0], [1.0, 1.0], [_z, _z], color=_box_color, zorder=-1)\n",
    "    ax.plot3D([1.0, 1.0], [1.0, 0.0], [_z, _z], color=_box_color, zorder=-1)\n",
    "    ax.plot3D([1.0, 0.0], [0.0, 0.0], [_z, _z], color=_box_color, zorder=-1)\n",
    "    \n",
    "    px = np.empty(0)\n",
    "    py = np.empty(0)\n",
    "    pz = np.empty(0)\n",
    "    pc = np.empty((0, 4))\n",
    "    \n",
    "    for _zorder, _image in enumerate(tqdm(false_color_stack[:, :, :, :])):\n",
    "\n",
    "        _color = _image.copy().astype(np.float64) / 65535.0\n",
    "\n",
    "        valid = np.sum(_color[:, :, :3], axis=2) > 0.1\n",
    "\n",
    "        zz = np.ones_like(xx) * z\n",
    "\n",
    "        #print(float(zz[valid].shape[0]) / float(np.prod(zz.shape)))\n",
    "\n",
    "        ax.plot3D([0.0, 0.0], [0.0, 0.0], [z, z + dz], color=_box_color, zorder=_zorder)\n",
    "        ax.plot3D([0.0, 0.0], [1.0, 1.0], [z, z + dz], color=_box_color, zorder=_zorder)\n",
    "        ax.plot3D([1.0, 1.0], [1.0, 1.0], [z, z + dz], color=_box_color, zorder=_zorder)\n",
    "        ax.plot3D([1.0, 1.0], [0.0, 0.0], [z, z + dz], color=_box_color, zorder=_zorder)\n",
    "\n",
    "        z += dz\n",
    "        \n",
    "        px = np.concatenate((px, xx[valid]))\n",
    "        py = np.concatenate((py, yy[valid]))\n",
    "        pz = np.concatenate((pz, zz[valid]))\n",
    "        pc = np.concatenate((pc, _color[valid]), axis=0)\n",
    "\n",
    "    ax.scatter3D(px, py, pz,\n",
    "                 c=pc,\n",
    "                 edgecolor='none',\n",
    "                 marker='.', s=4.0, alpha=0.5,\n",
    "                 depthshade=True, zorder=_zorder)\n",
    "\n",
    "    _z = z\n",
    "    \n",
    "    #print(f\"max z = {z * float(false_color_stack.shape[1])} pixels\")\n",
    "    \n",
    "    ax.plot3D([0.0, 0.0], [0.0, 1.0], [_z, _z], color=_box_color, zorder=_zorder + 2)\n",
    "    ax.plot3D([0.0, 1.0], [1.0, 1.0], [_z, _z], color=_box_color, zorder=_zorder + 2)\n",
    "    ax.plot3D([1.0, 1.0], [1.0, 0.0], [_z, _z], color=_box_color, zorder=_zorder + 2)\n",
    "    ax.plot3D([1.0, 0.0], [0.0, 0.0], [_z, _z], color=_box_color, zorder=_zorder + 2)\n",
    "\n",
    "\n",
    "    ax.set_xlim(-0.01, 1.01)\n",
    "    ax.set_ylim(-0.01, 1.01)\n",
    "    ax.set_zlim(-0.51, 0.51)\n",
    "    ax.set_axis_off()\n",
    "\n",
    "    #scale = np.diag([1.0, 1.0, 0.1, 1.0])\n",
    "\n",
    "    #def short_proj ():\n",
    "    #    return np.dot(Axes3D.get_proj(ax), scale)\n",
    "\n",
    "    #ax.get_proj = short_proj\n",
    "    ax.view_init(20, 40)\n",
    "    ax.dist = 9.0\n",
    "    \n",
    "    ax.set_rasterized(True)\n",
    "    plt.margins(0.0, 0.0, 0.0)\n",
    "    \n",
    "    fig.savefig(save_figure_dir + \"/tomo_\" + cropped_name + '.pdf',\n",
    "                    format = 'pdf', bbox_inches='tight', pad_inches = 0.0, transparent = False, dpi = 300)  \n",
    "    plt.close ()"
   ]
  },
  {
   "cell_type": "code",
   "execution_count": 17,
   "id": "ead6e20a",
   "metadata": {},
   "outputs": [],
   "source": [
    "# def render_tomo_voxel (false_color_stack, save_figure_dir, cropped_name, pixel_size_z):\n",
    "    \n",
    "\n",
    "#     fig = mlab.figure(bgcolor=(0.0, 0.0, 0.0), fgcolor=None, engine=None, size=(800, 600))\n",
    "    \n",
    "#     mlab.pipeline.volume(mlab.pipeline.scalar_field(false_color_stack[:, :, :, 0]))\n",
    "    \n",
    "#     mlab.draw(fig)\n",
    "    \n",
    "#     return\n",
    "    \n",
    "#     def midpoints(x):\n",
    "#         sl = ()\n",
    "#         for i in range(x.ndim):\n",
    "#             x = (x[sl + np.index_exp[:-1]] + x[sl + np.index_exp[1:]]) / 2.0\n",
    "#             sl += np.index_exp[:]\n",
    "#         return x\n",
    "\n",
    "#     assert false_color_stack.shape[1] == false_color_stack.shape[2]\n",
    "    \n",
    "#     xx, yy, zz = np.meshgrid(np.linspace(0.0, 1.0, false_color_stack.shape[1] + 1),\n",
    "#                              np.linspace(0.0, 1.0, false_color_stack.shape[2] + 1),\n",
    "#                              np.linspace(0.0, false_color_stack.shape[0] / float(false_color_stack.shape[1]) * pixel_size_z / 300.0,\n",
    "#                                          false_color_stack.shape[0] + 1))\n",
    "    \n",
    "#     valid = []\n",
    "    \n",
    "#     for _image in false_color_stack:\n",
    "\n",
    "#         _color = _image.copy().astype(np.float64) / 65535.0\n",
    "\n",
    "#         valid.append((np.sum(_color[:, :, :3], axis=2) > 0.1))\n",
    "    \n",
    "#     valid = np.array(valid, dtype=np.int32).transpose((1, 2, 0))\n",
    "\n",
    "#     fig = plt.figure(figsize=(20, 20))\n",
    "#     plt.tight_layout()\n",
    "\n",
    "#     ax = fig.add_subplot(projection='3d', frame_on=True)\n",
    "#     #fig.subplots_adjust(top=1.5, bottom=-0.5, wspace=0.0)\n",
    "#     fig.subplots_adjust(top=1.0, bottom=0.0, left=0.0, right=1.0, wspace=0.0, hspace=0.0)\n",
    "\n",
    "#     ax.voxels(xx, yy, zz, valid,\n",
    "#           #facecolors=colors,\n",
    "#           edgecolors=None,\n",
    "#           linewidth=0.0)\n",
    "    \n",
    "#     return\n",
    "#     z = 0.0\n",
    "    \n",
    "#     #pixel size in x and y direction is 300 nm\n",
    "#     dz = 1.0 / float(false_color_stack.shape[1]) * pixel_size_z / 300.0# * 0.5\n",
    "#     #dz = 0.03 * 17.0 / float(false_color_stack.shape[0])\n",
    "\n",
    "#     ax.set_facecolor('black')\n",
    "\n",
    "#     _box_color = 'white'\n",
    "\n",
    "#     _z = 0.0\n",
    "\n",
    "#     ax.plot3D([0.0, 0.0], [0.0, 1.0], [_z, _z], color=_box_color, zorder=-1)\n",
    "#     ax.plot3D([0.0, 1.0], [1.0, 1.0], [_z, _z], color=_box_color, zorder=-1)\n",
    "#     ax.plot3D([1.0, 1.0], [1.0, 0.0], [_z, _z], color=_box_color, zorder=-1)\n",
    "#     ax.plot3D([1.0, 0.0], [0.0, 0.0], [_z, _z], color=_box_color, zorder=-1)\n",
    "\n",
    "#     for _zorder, _image in enumerate(tqdm(false_color_stack[:, :, :, :])):\n",
    "\n",
    "#         _color = _image.copy().astype(np.float64) / 65535.0\n",
    "\n",
    "#         valid = np.sum(_color[:, :, :3], axis=2) > 0.1\n",
    "\n",
    "#         zz = np.ones_like(xx) * z\n",
    "\n",
    "#         #print(float(zz[valid].shape[0]) / float(np.prod(zz.shape)))\n",
    "\n",
    "#         ax.plot3D([0.0, 0.0], [0.0, 0.0], [z, z + dz], color=_box_color, zorder=_zorder)\n",
    "#         ax.plot3D([0.0, 0.0], [1.0, 1.0], [z, z + dz], color=_box_color, zorder=_zorder)\n",
    "#         ax.plot3D([1.0, 1.0], [1.0, 1.0], [z, z + dz], color=_box_color, zorder=_zorder)\n",
    "#         ax.plot3D([1.0, 1.0], [0.0, 0.0], [z, z + dz], color=_box_color, zorder=_zorder)\n",
    "\n",
    "#         z += dz\n",
    "\n",
    "\n",
    "#         ax.scatter3D(xx[valid], yy[valid], zz[valid],\n",
    "#                      c=_color[valid],\n",
    "#                      edgecolor='none',\n",
    "#                      marker='.', s=5.0, alpha=0.5,\n",
    "#                      depthshade=True, zorder=_zorder)\n",
    "\n",
    "#     _z = z\n",
    "    \n",
    "#     print(f\"max z = {z * float(false_color_stack.shape[1])} pixels\")\n",
    "    \n",
    "#     ax.plot3D([0.0, 0.0], [0.0, 1.0], [_z, _z], color=_box_color, zorder=_zorder + 2)\n",
    "#     ax.plot3D([0.0, 1.0], [1.0, 1.0], [_z, _z], color=_box_color, zorder=_zorder + 2)\n",
    "#     ax.plot3D([1.0, 1.0], [1.0, 0.0], [_z, _z], color=_box_color, zorder=_zorder + 2)\n",
    "#     ax.plot3D([1.0, 0.0], [0.0, 0.0], [_z, _z], color=_box_color, zorder=_zorder + 2)\n",
    "\n",
    "\n",
    "#     ax.set_xlim(-0.01, 1.01)\n",
    "#     ax.set_ylim(-0.01, 1.01)\n",
    "#     ax.set_zlim(-0.51, 0.51)\n",
    "#     ax.set_axis_off()\n",
    "\n",
    "#     #scale = np.diag([1.0, 1.0, 0.1, 1.0])\n",
    "\n",
    "#     #def short_proj ():\n",
    "#     #    return np.dot(Axes3D.get_proj(ax), scale)\n",
    "\n",
    "#     #ax.get_proj = short_proj\n",
    "#     ax.view_init(20, 40)\n",
    "#     ax.dist = 9.0\n",
    "    \n",
    "#     ax.set_rasterized(True)\n",
    "#     plt.margins(0.0, 0.0, 0.0)\n",
    "    \n",
    "\n",
    "# #     fig.savefig(save_figure_dir + \"/tomo_\" + cropped_name + '.pdf',\n",
    "# #                     format = 'pdf', bbox_inches='tight', pad_inches = 0.0, transparent = False, dpi = 300)  \n",
    "# #     plt.close ()"
   ]
  },
  {
   "cell_type": "markdown",
   "id": "isolated-spectacular",
   "metadata": {},
   "source": [
    "## Processing the co-seeding samples"
   ]
  },
  {
   "cell_type": "code",
   "execution_count": 18,
   "id": "numerous-instrumentation",
   "metadata": {},
   "outputs": [],
   "source": [
    "series = []\n",
    "\n",
    "# series.append(\"001_lsm_files_overnight/20210415_Single_ON_NRXN_NLGN\")\n",
    "# series.append(\"002_lsm_files_24hrs/20210505_lsm_files_diff_gains/20210505_Single_NRXN_24hr_diff_gains\")\n",
    "# series.append(\"002_lsm_files_24hrs/20210129_Single_24hr_NRXN_NLGN\")\n",
    "# series.append(\"003_lsm_files_48hrs/20210325_Single_48hr_NRXN_NLGN\")\n",
    "# series.append(\"004_lsm_files_72hrs/001_single_transfect/zstacks/20210108_Single_72hr_NRXN_NLGN_Gain500\")\n",
    "# series.append(\"004_lsm_files_72hrs/001_single_transfect/zstacks/20201230_Single_72hr_NRXN_NLGN_Gain550\")\n",
    "# series.append(\"004_lsm_files_72hrs/004_coseeding/zstacks/20201221_CoSeeding_72hr_NRXN_NLGN\")\n",
    "# series.append(\"004_lsm_files_72hrs/004_coseeding/zstacks/20201221_CoSeeding_72hr_NRXN_NLGN_Gain550\")\n",
    "# series.append(\"004_lsm_files_72hrs/004_coseeding/zstacks/20201221_CoSeeding_72hr_NRXN_NLGN_zoom\")\n",
    "# series.append(\"004_lsm_files_72hrs/004_coseeding/zstacks/20201230_CoSeeding_72hr_NRXN_NLGN_Gain550\")\n",
    "# series.append(\"004_lsm_files_72hrs/004_coseeding/zstacks/20210108_CoSeeding_72hr_NRXN_NLGN_Gain500\")\n",
    "# series.append(\"006_Coseeding/20210616_Optimized_time/20210616_Optimized_time\")\n",
    "# series.append(\"006_Coseeding/20210709_all_nrxns_diff_nlgns/all_nb\")\n",
    "# series.append(\"006_Coseeding/20211205_48hrs\")\n",
    "series.append(\"006_Coseeding/20211209_Coseeding\")"
   ]
  },
  {
   "cell_type": "code",
   "execution_count": 19,
   "id": "1ae732bb",
   "metadata": {},
   "outputs": [],
   "source": [
    "#mlab.init_notebook()"
   ]
  },
  {
   "cell_type": "code",
   "execution_count": 20,
   "id": "interstate-public",
   "metadata": {},
   "outputs": [
    {
     "name": "stdout",
     "output_type": "stream",
     "text": [
      "36 files found!\n"
     ]
    },
    {
     "data": {
      "application/vnd.jupyter.widget-view+json": {
       "model_id": "be96692f73474e8f9e859980252166aa",
       "version_major": 2,
       "version_minor": 0
      },
      "text/plain": [
       "  0%|          | 0/36 [00:00<?, ?it/s]"
      ]
     },
     "metadata": {},
     "output_type": "display_data"
    },
    {
     "name": "stdout",
     "output_type": "stream",
     "text": [
      "ALL_ALL_CS1_P3_CH11_z13_500nm UNKNOWN 0.019990282 0.0\n"
     ]
    },
    {
     "data": {
      "application/vnd.jupyter.widget-view+json": {
       "model_id": "c54ab22f0b4142cb854eb91445df9446",
       "version_major": 2,
       "version_minor": 0
      },
      "text/plain": [
       "  0%|          | 0/13 [00:00<?, ?it/s]"
      ]
     },
     "metadata": {},
     "output_type": "display_data"
    },
    {
     "name": "stdout",
     "output_type": "stream",
     "text": [
      "MOCK_CS2_P2_CH11_z13_500nm UNKNOWN 0.03199962 0.0\n"
     ]
    },
    {
     "data": {
      "application/vnd.jupyter.widget-view+json": {
       "model_id": "dbb43407afd24c12b92bb98a89be6f5e",
       "version_major": 2,
       "version_minor": 0
      },
      "text/plain": [
       "  0%|          | 0/13 [00:00<?, ?it/s]"
      ]
     },
     "metadata": {},
     "output_type": "display_data"
    },
    {
     "name": "stdout",
     "output_type": "stream",
     "text": [
      "MOCK_CS2_P1_CH11_z13_500nm UNKNOWN 0.041240126 0.0\n"
     ]
    },
    {
     "data": {
      "application/vnd.jupyter.widget-view+json": {
       "model_id": "f92b9e27f11e4af99b467d8839f8b66d",
       "version_major": 2,
       "version_minor": 0
      },
      "text/plain": [
       "  0%|          | 0/13 [00:00<?, ?it/s]"
      ]
     },
     "metadata": {},
     "output_type": "display_data"
    },
    {
     "name": "stdout",
     "output_type": "stream",
     "text": [
      "ALL_ALL_CS3_P3_CH11_z13_500nm UNKNOWN 0.21240197 0.0\n"
     ]
    },
    {
     "data": {
      "application/vnd.jupyter.widget-view+json": {
       "model_id": "1528dd7ab45a40fcb9629ab0523a6e4b",
       "version_major": 2,
       "version_minor": 0
      },
      "text/plain": [
       "  0%|          | 0/13 [00:00<?, ?it/s]"
      ]
     },
     "metadata": {},
     "output_type": "display_data"
    },
    {
     "name": "stdout",
     "output_type": "stream",
     "text": [
      "4_6_9_9_CS2_P3_CH11_z13_500nm UNKNOWN 0.2804795 0.0\n"
     ]
    },
    {
     "data": {
      "application/vnd.jupyter.widget-view+json": {
       "model_id": "4618c4749dca4a0e9eb891317baad882",
       "version_major": 2,
       "version_minor": 0
      },
      "text/plain": [
       "  0%|          | 0/13 [00:00<?, ?it/s]"
      ]
     },
     "metadata": {},
     "output_type": "display_data"
    },
    {
     "name": "stdout",
     "output_type": "stream",
     "text": [
      "ALL_ALL_CS1_P1_CH11_z13_500nm UNKNOWN 0.015760295 0.0\n"
     ]
    },
    {
     "data": {
      "application/vnd.jupyter.widget-view+json": {
       "model_id": "2f92d28b18824d9ea808e4964fced479",
       "version_major": 2,
       "version_minor": 0
      },
      "text/plain": [
       "  0%|          | 0/13 [00:00<?, ?it/s]"
      ]
     },
     "metadata": {},
     "output_type": "display_data"
    },
    {
     "name": "stdout",
     "output_type": "stream",
     "text": [
      "ALL_ALL_CS4_P3_CH11_z13_500nm UNKNOWN 0.06892451 0.0\n"
     ]
    },
    {
     "data": {
      "application/vnd.jupyter.widget-view+json": {
       "model_id": "32896bebdca242fa82c9ab3664614958",
       "version_major": 2,
       "version_minor": 0
      },
      "text/plain": [
       "  0%|          | 0/13 [00:00<?, ?it/s]"
      ]
     },
     "metadata": {},
     "output_type": "display_data"
    },
    {
     "name": "stdout",
     "output_type": "stream",
     "text": [
      "ALL_ALL_CS3_P2_CH11_z13_500nm UNKNOWN 0.3841046 0.0\n"
     ]
    },
    {
     "data": {
      "application/vnd.jupyter.widget-view+json": {
       "model_id": "daf45be04bcd42058c27f6db479a039b",
       "version_major": 2,
       "version_minor": 0
      },
      "text/plain": [
       "  0%|          | 0/13 [00:00<?, ?it/s]"
      ]
     },
     "metadata": {},
     "output_type": "display_data"
    },
    {
     "name": "stdout",
     "output_type": "stream",
     "text": [
      "2_7_8_10_CS1_P2_CH11_z13_500nm UNKNOWN 0.5602422 0.0\n"
     ]
    },
    {
     "data": {
      "application/vnd.jupyter.widget-view+json": {
       "model_id": "e918c5c08e474267bc33884a74402846",
       "version_major": 2,
       "version_minor": 0
      },
      "text/plain": [
       "  0%|          | 0/13 [00:00<?, ?it/s]"
      ]
     },
     "metadata": {},
     "output_type": "display_data"
    },
    {
     "name": "stdout",
     "output_type": "stream",
     "text": [
      "ALL_ALL_CS3_P1_CH11_z13_500nm UNKNOWN 0.43268004 0.0\n"
     ]
    },
    {
     "data": {
      "application/vnd.jupyter.widget-view+json": {
       "model_id": "3e544d8f35c5442aa14da1e21974b600",
       "version_major": 2,
       "version_minor": 0
      },
      "text/plain": [
       "  0%|          | 0/13 [00:00<?, ?it/s]"
      ]
     },
     "metadata": {},
     "output_type": "display_data"
    },
    {
     "name": "stdout",
     "output_type": "stream",
     "text": [
      "1_3_5_11_CS2_P2_CH11_z13_500nm UNKNOWN 0.04726258 0.0\n"
     ]
    },
    {
     "data": {
      "application/vnd.jupyter.widget-view+json": {
       "model_id": "7a304ed70f2a4cfb942344854eb2ab0f",
       "version_major": 2,
       "version_minor": 0
      },
      "text/plain": [
       "  0%|          | 0/13 [00:00<?, ?it/s]"
      ]
     },
     "metadata": {},
     "output_type": "display_data"
    },
    {
     "name": "stdout",
     "output_type": "stream",
     "text": [
      "4_6_9_9_CS1_P2_CH11_z13_500nm UNKNOWN 0.2044354 0.0\n"
     ]
    },
    {
     "data": {
      "application/vnd.jupyter.widget-view+json": {
       "model_id": "9afced0e065a4a59b222937e5ca774a0",
       "version_major": 2,
       "version_minor": 0
      },
      "text/plain": [
       "  0%|          | 0/13 [00:00<?, ?it/s]"
      ]
     },
     "metadata": {},
     "output_type": "display_data"
    },
    {
     "name": "stdout",
     "output_type": "stream",
     "text": [
      "2_7_8_10_CS2_P3_CH11_z13_500nm UNKNOWN 0.4353899 0.0\n"
     ]
    },
    {
     "data": {
      "application/vnd.jupyter.widget-view+json": {
       "model_id": "dceca2d90b3547dbbc4a4131bc883e88",
       "version_major": 2,
       "version_minor": 0
      },
      "text/plain": [
       "  0%|          | 0/13 [00:00<?, ?it/s]"
      ]
     },
     "metadata": {},
     "output_type": "display_data"
    },
    {
     "name": "stdout",
     "output_type": "stream",
     "text": [
      "1_3_5_11_CS1_P2_CH11_z13_500nm UNKNOWN 0.068013124 0.0\n"
     ]
    },
    {
     "data": {
      "application/vnd.jupyter.widget-view+json": {
       "model_id": "a432965100df48acb486e903035c6e32",
       "version_major": 2,
       "version_minor": 0
      },
      "text/plain": [
       "  0%|          | 0/13 [00:00<?, ?it/s]"
      ]
     },
     "metadata": {},
     "output_type": "display_data"
    },
    {
     "name": "stdout",
     "output_type": "stream",
     "text": [
      "4_6_9_9_CS2_P1_CH11_z13_500nm UNKNOWN 0.15866753 0.0\n"
     ]
    },
    {
     "data": {
      "application/vnd.jupyter.widget-view+json": {
       "model_id": "c581e3cdce9c4fff92728c8873ee4dfd",
       "version_major": 2,
       "version_minor": 0
      },
      "text/plain": [
       "  0%|          | 0/13 [00:00<?, ?it/s]"
      ]
     },
     "metadata": {},
     "output_type": "display_data"
    },
    {
     "name": "stdout",
     "output_type": "stream",
     "text": [
      "ALL_ALL_CS2_P1_CH11_z13_500nm UNKNOWN 0.020755485 0.0\n"
     ]
    },
    {
     "data": {
      "application/vnd.jupyter.widget-view+json": {
       "model_id": "f84bf100bb4a40ac97925bf39d68a8e3",
       "version_major": 2,
       "version_minor": 0
      },
      "text/plain": [
       "  0%|          | 0/13 [00:00<?, ?it/s]"
      ]
     },
     "metadata": {},
     "output_type": "display_data"
    },
    {
     "name": "stdout",
     "output_type": "stream",
     "text": [
      "1_3_5_11_CS2_P1_CH11_z13_500nm UNKNOWN 0.079235196 0.0\n"
     ]
    },
    {
     "data": {
      "application/vnd.jupyter.widget-view+json": {
       "model_id": "0021d83323ce438e854d65667293c282",
       "version_major": 2,
       "version_minor": 0
      },
      "text/plain": [
       "  0%|          | 0/13 [00:00<?, ?it/s]"
      ]
     },
     "metadata": {},
     "output_type": "display_data"
    },
    {
     "name": "stdout",
     "output_type": "stream",
     "text": [
      "ALL_ALL_CS4_P2_CH11_z13_500nm UNKNOWN 0.10661197 0.0\n"
     ]
    },
    {
     "data": {
      "application/vnd.jupyter.widget-view+json": {
       "model_id": "5d12962dfc534b909c74751e9fccb1c9",
       "version_major": 2,
       "version_minor": 0
      },
      "text/plain": [
       "  0%|          | 0/13 [00:00<?, ?it/s]"
      ]
     },
     "metadata": {},
     "output_type": "display_data"
    },
    {
     "name": "stdout",
     "output_type": "stream",
     "text": [
      "MOCK_CS2_P3_CH11_z13_500nm UNKNOWN 0.03741355 0.0\n"
     ]
    },
    {
     "data": {
      "application/vnd.jupyter.widget-view+json": {
       "model_id": "7a13d47fc6d2489c8f7c5b38b19aed75",
       "version_major": 2,
       "version_minor": 0
      },
      "text/plain": [
       "  0%|          | 0/13 [00:00<?, ?it/s]"
      ]
     },
     "metadata": {},
     "output_type": "display_data"
    },
    {
     "name": "stdout",
     "output_type": "stream",
     "text": [
      "1_3_5_11_CS2_P3_CH11_z13_500nm UNKNOWN 0.03630206 0.0\n"
     ]
    },
    {
     "data": {
      "application/vnd.jupyter.widget-view+json": {
       "model_id": "13314c736f6f485d8d469a03bb9c7e85",
       "version_major": 2,
       "version_minor": 0
      },
      "text/plain": [
       "  0%|          | 0/13 [00:00<?, ?it/s]"
      ]
     },
     "metadata": {},
     "output_type": "display_data"
    },
    {
     "name": "stdout",
     "output_type": "stream",
     "text": [
      "1_3_5_11_CS1_P1_CH11_z13_500nm UNKNOWN 0.44630235 0.0\n"
     ]
    },
    {
     "data": {
      "application/vnd.jupyter.widget-view+json": {
       "model_id": "7b4013bcb02b4f3297260798a837dc81",
       "version_major": 2,
       "version_minor": 0
      },
      "text/plain": [
       "  0%|          | 0/13 [00:00<?, ?it/s]"
      ]
     },
     "metadata": {},
     "output_type": "display_data"
    },
    {
     "name": "stdout",
     "output_type": "stream",
     "text": [
      "1_3_5_11_CS1_P3_CH11_z13_500nm UNKNOWN 0.121874735 0.0\n"
     ]
    },
    {
     "data": {
      "application/vnd.jupyter.widget-view+json": {
       "model_id": "880e9498dabc447a804194b3c6a9fec9",
       "version_major": 2,
       "version_minor": 0
      },
      "text/plain": [
       "  0%|          | 0/13 [00:00<?, ?it/s]"
      ]
     },
     "metadata": {},
     "output_type": "display_data"
    },
    {
     "name": "stdout",
     "output_type": "stream",
     "text": [
      "4_6_9_9_CS1_P3_CH11_z13_500nm UNKNOWN 0.082826875 0.0\n"
     ]
    },
    {
     "data": {
      "application/vnd.jupyter.widget-view+json": {
       "model_id": "9ceafa3dce774a40bc5c7decf833f830",
       "version_major": 2,
       "version_minor": 0
      },
      "text/plain": [
       "  0%|          | 0/13 [00:00<?, ?it/s]"
      ]
     },
     "metadata": {},
     "output_type": "display_data"
    },
    {
     "name": "stdout",
     "output_type": "stream",
     "text": [
      "MOCK_CS1_P1_CH11_z13_500nm UNKNOWN 0.047065545 0.0\n"
     ]
    },
    {
     "data": {
      "application/vnd.jupyter.widget-view+json": {
       "model_id": "92379ae455434195bf5e32388f54838c",
       "version_major": 2,
       "version_minor": 0
      },
      "text/plain": [
       "  0%|          | 0/13 [00:00<?, ?it/s]"
      ]
     },
     "metadata": {},
     "output_type": "display_data"
    },
    {
     "name": "stdout",
     "output_type": "stream",
     "text": [
      "2_7_8_10_CS1_P3_CH11_z13_500nm UNKNOWN 0.54272157 0.0\n"
     ]
    },
    {
     "data": {
      "application/vnd.jupyter.widget-view+json": {
       "model_id": "eca344378ff4412faa975f59eaf33c60",
       "version_major": 2,
       "version_minor": 0
      },
      "text/plain": [
       "  0%|          | 0/13 [00:00<?, ?it/s]"
      ]
     },
     "metadata": {},
     "output_type": "display_data"
    },
    {
     "name": "stdout",
     "output_type": "stream",
     "text": [
      "2_7_8_10_CS2_P1_CH11_z13_500nm UNKNOWN 0.43260738 0.0\n"
     ]
    },
    {
     "data": {
      "application/vnd.jupyter.widget-view+json": {
       "model_id": "68ca415329b74560a6b1f0ca2825a2e9",
       "version_major": 2,
       "version_minor": 0
      },
      "text/plain": [
       "  0%|          | 0/13 [00:00<?, ?it/s]"
      ]
     },
     "metadata": {},
     "output_type": "display_data"
    },
    {
     "name": "stdout",
     "output_type": "stream",
     "text": [
      "4_6_9_9_CS1_P1_CH11_z13_500nm UNKNOWN 0.30714864 0.0\n"
     ]
    },
    {
     "data": {
      "application/vnd.jupyter.widget-view+json": {
       "model_id": "916351b162034079b238b894cbd386ef",
       "version_major": 2,
       "version_minor": 0
      },
      "text/plain": [
       "  0%|          | 0/13 [00:00<?, ?it/s]"
      ]
     },
     "metadata": {},
     "output_type": "display_data"
    },
    {
     "name": "stdout",
     "output_type": "stream",
     "text": [
      "MOCK_CS1_P3_CH11_z13_500nm UNKNOWN 0.046199154 0.0\n"
     ]
    },
    {
     "data": {
      "application/vnd.jupyter.widget-view+json": {
       "model_id": "c63558ca4206433e950d0513dcc55f7c",
       "version_major": 2,
       "version_minor": 0
      },
      "text/plain": [
       "  0%|          | 0/13 [00:00<?, ?it/s]"
      ]
     },
     "metadata": {},
     "output_type": "display_data"
    },
    {
     "name": "stdout",
     "output_type": "stream",
     "text": [
      "2_7_8_10_CS2_P2_CH11_z13_500nm UNKNOWN 0.48417237 0.0\n"
     ]
    },
    {
     "data": {
      "application/vnd.jupyter.widget-view+json": {
       "model_id": "6182b2e993fe4515a41469df30ed51cb",
       "version_major": 2,
       "version_minor": 0
      },
      "text/plain": [
       "  0%|          | 0/13 [00:00<?, ?it/s]"
      ]
     },
     "metadata": {},
     "output_type": "display_data"
    },
    {
     "name": "stdout",
     "output_type": "stream",
     "text": [
      "ALL_ALL_CS2_P2_CH11_z13_500nm UNKNOWN 0.022374593 0.0\n"
     ]
    },
    {
     "data": {
      "application/vnd.jupyter.widget-view+json": {
       "model_id": "af6b6e3a5302449caa66d95c85ff598f",
       "version_major": 2,
       "version_minor": 0
      },
      "text/plain": [
       "  0%|          | 0/13 [00:00<?, ?it/s]"
      ]
     },
     "metadata": {},
     "output_type": "display_data"
    },
    {
     "name": "stdout",
     "output_type": "stream",
     "text": [
      "ALL_ALL_CS4_P1_CH11_z13_500nm UNKNOWN 0.31106395 0.0\n"
     ]
    },
    {
     "data": {
      "application/vnd.jupyter.widget-view+json": {
       "model_id": "5758aba519fc439cb93a8de8fb57cd7f",
       "version_major": 2,
       "version_minor": 0
      },
      "text/plain": [
       "  0%|          | 0/13 [00:00<?, ?it/s]"
      ]
     },
     "metadata": {},
     "output_type": "display_data"
    },
    {
     "name": "stdout",
     "output_type": "stream",
     "text": [
      "4_6_9_9_CS2_P2_CH11_z13_500nm UNKNOWN 0.020893106 0.0\n"
     ]
    },
    {
     "data": {
      "application/vnd.jupyter.widget-view+json": {
       "model_id": "5a6badc5fa53461b92468b5738ec7041",
       "version_major": 2,
       "version_minor": 0
      },
      "text/plain": [
       "  0%|          | 0/13 [00:00<?, ?it/s]"
      ]
     },
     "metadata": {},
     "output_type": "display_data"
    },
    {
     "name": "stdout",
     "output_type": "stream",
     "text": [
      "MOCK_CS1_P2_CH11_z13_500nm UNKNOWN 0.039753553 0.0\n"
     ]
    },
    {
     "data": {
      "application/vnd.jupyter.widget-view+json": {
       "model_id": "a4f2b6809282459087a5c00d2fc4d783",
       "version_major": 2,
       "version_minor": 0
      },
      "text/plain": [
       "  0%|          | 0/13 [00:00<?, ?it/s]"
      ]
     },
     "metadata": {},
     "output_type": "display_data"
    },
    {
     "name": "stdout",
     "output_type": "stream",
     "text": [
      "ALL_ALL_CS2_P3_CH11_z13_500nm UNKNOWN 0.021641787 0.0\n"
     ]
    },
    {
     "data": {
      "application/vnd.jupyter.widget-view+json": {
       "model_id": "6581449996854f15b4ec1ecc329bb39b",
       "version_major": 2,
       "version_minor": 0
      },
      "text/plain": [
       "  0%|          | 0/13 [00:00<?, ?it/s]"
      ]
     },
     "metadata": {},
     "output_type": "display_data"
    },
    {
     "name": "stdout",
     "output_type": "stream",
     "text": [
      "2_7_8_10_CS1_P1_CH11_z13_500nm UNKNOWN 0.02359554 0.0\n"
     ]
    },
    {
     "data": {
      "application/vnd.jupyter.widget-view+json": {
       "model_id": "efd18f4e6bc84256a110bef5b53fa10e",
       "version_major": 2,
       "version_minor": 0
      },
      "text/plain": [
       "  0%|          | 0/13 [00:00<?, ?it/s]"
      ]
     },
     "metadata": {},
     "output_type": "display_data"
    },
    {
     "name": "stdout",
     "output_type": "stream",
     "text": [
      "ALL_ALL_CS1_P2_CH11_z13_500nm UNKNOWN 0.027974272 0.0\n"
     ]
    },
    {
     "data": {
      "application/vnd.jupyter.widget-view+json": {
       "model_id": "7ec447dec89e435182cea51270f7856a",
       "version_major": 2,
       "version_minor": 0
      },
      "text/plain": [
       "  0%|          | 0/13 [00:00<?, ?it/s]"
      ]
     },
     "metadata": {},
     "output_type": "display_data"
    }
   ],
   "source": [
    "#name_template = \"*ALLNRXNs_KDEL_NB_P1_CH11_z17_330nm.lsm\"\n",
    "name_template = \"*.lsm\"\n",
    "\n",
    "for _series in series:\n",
    "\n",
    "    sub_dir = image_dir + \"2021_coseeding_series/\" + _series + \"/\"\n",
    "    \n",
    "    save_figure_dir = output_dir + \"/2021_coseeding/trained_on_\" + dataset_expression_time + \"/tomogram/\" + _series\n",
    "    os.makedirs(save_figure_dir, exist_ok=True)\n",
    "    \n",
    "    image_file_name = glob.glob(sub_dir + name_template)\n",
    "\n",
    "    print(f\"{len(image_file_name)} files found!\")\n",
    "\n",
    "    for _f in tqdm(image_file_name):\n",
    "\n",
    "        cropped_name, protein_name, false_color_stack, cell_edge_false_color_stack, unprocessed_false_color_stack,\\\n",
    "            entropy, accuracy = predict_image_from_file(_f, pred_threshold=0.8)\n",
    "\n",
    "        print(cropped_name, protein_name, entropy, accuracy)\n",
    "\n",
    "        render_tomo(false_color_stack, save_figure_dir, cropped_name, 330.0)"
   ]
  },
  {
   "cell_type": "code",
   "execution_count": null,
   "id": "elder-pizza",
   "metadata": {},
   "outputs": [],
   "source": []
  },
  {
   "cell_type": "code",
   "execution_count": null,
   "id": "theoretical-access",
   "metadata": {},
   "outputs": [],
   "source": []
  }
 ],
 "metadata": {
  "kernelspec": {
   "display_name": "Python 3 (ipykernel)",
   "language": "python",
   "name": "python3"
  },
  "language_info": {
   "codemirror_mode": {
    "name": "ipython",
    "version": 3
   },
   "file_extension": ".py",
   "mimetype": "text/x-python",
   "name": "python",
   "nbconvert_exporter": "python",
   "pygments_lexer": "ipython3",
   "version": "3.9.12"
  }
 },
 "nbformat": 4,
 "nbformat_minor": 5
}
