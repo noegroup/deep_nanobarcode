{
 "cells": [
  {
   "cell_type": "markdown",
   "id": "c5bbe717",
   "metadata": {},
   "source": [
    "# Deep-learning-based identification of protein nanobarcodes\n",
    "\n",
    "This notebook contains the code necessary for using our trained deep neural network for identification of protein nanobarcodes from confocal images. \n",
    "\n",
    "Current setup in the code loads hyperparameters and network weights from the ```../network_params``` folder. These files will be downloaded from an ftp server the first time the notebook is run.\n",
    "\n",
    "If you wish, you can use this notebook for training of the network with new data.\n",
    "\n",
    "This notebook depends on the included Python package ```deep_nanobarcode```. For instruction on how to set up the library, see the ```README.md``` file or visit the github page at https://github.com/noegroup/deep_nanobarcode."
   ]
  },
  {
   "cell_type": "code",
   "execution_count": null,
   "id": "transparent-provincial",
   "metadata": {},
   "outputs": [],
   "source": [
    "import numpy as np\n",
    "import matplotlib.pyplot as plt\n",
    "from matplotlib.ticker import PercentFormatter\n",
    "from tqdm.notebook import tqdm\n",
    "\n",
    "import os, glob, urllib, json, pickle\n",
    "import torch,tifffile"
   ]
  },
  {
   "cell_type": "markdown",
   "id": "25fb40e5",
   "metadata": {},
   "source": [
    "### Importing the deep_nanobarcode library, which initially does a check on PyTorch installation and CUDA availability:"
   ]
  },
  {
   "cell_type": "code",
   "execution_count": null,
   "id": "developmental-canberra",
   "metadata": {},
   "outputs": [],
   "source": [
    "from deep_nanobarcode import dataset_handler\n",
    "from deep_nanobarcode import model\n",
    "from deep_nanobarcode import image_processing\n",
    "from deep_nanobarcode import network_components"
   ]
  },
  {
   "cell_type": "markdown",
   "id": "be7d1aa0",
   "metadata": {},
   "source": [
    "### Setting up IO paths, as well as specifying which protein expression/imaging condition among the available training data is to be used:"
   ]
  },
  {
   "cell_type": "code",
   "execution_count": null,
   "id": "essential-board",
   "metadata": {},
   "outputs": [],
   "source": [
    "series_number = 15\n",
    "\n",
    "output_folder = f\"../output/series_{series_number}\"\n",
    "network_params_folder = \"../network_params\"\n",
    "training_data_folder = \"../training_data\"\n",
    "example_folder = \"../examples\"\n",
    "\n",
    "dataset_expression_time = \"24h\"\n",
    "dataset_scaling = \"whitened\"\n",
    "dataset_gain = \"550\"\n",
    "\n",
    "ext_str = f\"{dataset_expression_time}_{dataset_scaling}_gain_{dataset_gain}\"\n",
    "\n",
    "saved_net_filename = f\"weights_series_{series_number}_trained_on_{ext_str}.pth\"\n",
    "dataset_filename = f\"kpca_input_{ext_str}.pkl\"\n",
    "\n",
    "for _data_folder, _data_filename in zip([network_params_folder, training_data_folder],\n",
    "                                        [saved_net_filename, dataset_filename]):\n",
    "    \n",
    "    if not glob.glob(f\"{_data_folder}/{_data_filename}\"):\n",
    "\n",
    "        print(f\"Downloading {_data_filename}...\")\n",
    "\n",
    "        urllib.request.urlretrieve(f\"https://ftp.mi.fu-berlin.de/pub/cmb-data/deep_nanobarcode/{_data_filename}\",\n",
    "                           f\"{_data_folder}/{_data_filename}\")\n",
    "    else:\n",
    "        \n",
    "        print(f\"{_data_filename} is already present!\")"
   ]
  },
  {
   "cell_type": "markdown",
   "id": "cac8146e",
   "metadata": {},
   "source": [
    "### The dataset object manages input training data, its shuffling, train/test split, and data augmentation:"
   ]
  },
  {
   "cell_type": "code",
   "execution_count": null,
   "id": "martial-surfing",
   "metadata": {},
   "outputs": [],
   "source": [
    "dataset = dataset_handler.NanobarcodeDataset(brightness_data_file_name=f\"{training_data_folder}/{dataset_filename}\",\n",
    "                                             train_val_test_split_frac=(0.8, 0.1, 0.1),\n",
    "                                             do_brightness_augmentation=True,\n",
    "                                             brightness_augmentation_factor=0.9,\n",
    "                                             verbose=True)"
   ]
  },
  {
   "cell_type": "markdown",
   "id": "8a539a15",
   "metadata": {},
   "source": [
    "### Getting the names of labeled proteins from the dataset:"
   ]
  },
  {
   "cell_type": "code",
   "execution_count": null,
   "id": "e3c5513c",
   "metadata": {},
   "outputs": [],
   "source": [
    "print(dataset.id_to_protein_name)"
   ]
  },
  {
   "cell_type": "markdown",
   "id": "800537cc",
   "metadata": {},
   "source": [
    "### Checking the training data for a specified channel and protein (feel free to change): "
   ]
  },
  {
   "cell_type": "code",
   "execution_count": null,
   "id": "322b65f3",
   "metadata": {},
   "outputs": [],
   "source": [
    "channel_ind = 8\n",
    "protein_ind = 3"
   ]
  },
  {
   "cell_type": "code",
   "execution_count": null,
   "id": "further-composition",
   "metadata": {},
   "outputs": [],
   "source": [
    "plt.figure(figsize=(7, 7))\n",
    "\n",
    "for _pr in dataset.protein_names:\n",
    "    \n",
    "    data = dataset.brightness_data[_pr][\"data\"][channel_ind, :]\n",
    "    \n",
    "    hist, bin_edges = np.histogram(data, bins=100)\n",
    "    hist = hist / np.sum(hist)\n",
    "    plt.plot(bin_edges[:-1], hist, label=_pr, linewidth=3)\n",
    "\n",
    "plt.title(f\"channel ind = {channel_ind}, $\\lambda = $ {dataset_handler.channel_wavelength[channel_ind]} nm\")\n",
    "plt.ylabel('Probability')\n",
    "plt.xlabel('Brightness')\n",
    "\n",
    "plt.legend()"
   ]
  },
  {
   "cell_type": "code",
   "execution_count": null,
   "id": "controlling-parent",
   "metadata": {},
   "outputs": [],
   "source": [
    "protein_name = dataset.id_to_protein_name[protein_ind]\n",
    "\n",
    "plt.figure(figsize=(10, 7))\n",
    "\n",
    "for i in range(dataset_handler.n_channels):\n",
    "    \n",
    "    data = dataset.brightness_data[protein_name][\"data\"][i]\n",
    "\n",
    "    hist, bin_edges = np.histogram(data, bins=50)\n",
    "    hist = hist / np.sum(hist)\n",
    "    \n",
    "    plt.plot(bin_edges[:-1], hist, label='channel - ' + str(i + 1), linewidth=3)\n",
    "\n",
    "plt.title(protein_name)\n",
    "plt.ylabel('Probability')\n",
    "plt.xlabel('Brightness')\n",
    "\n",
    "plt.legend()"
   ]
  },
  {
   "cell_type": "markdown",
   "id": "02dc9bb6",
   "metadata": {},
   "source": [
    "### Boolean flags controlling the behavior of the rest of the notebook:"
   ]
  },
  {
   "cell_type": "code",
   "execution_count": null,
   "id": "f3089752",
   "metadata": {},
   "outputs": [],
   "source": [
    "save_net = False\n",
    "load_net = True\n",
    "train_net = False"
   ]
  },
  {
   "cell_type": "markdown",
   "id": "1fd53204",
   "metadata": {},
   "source": [
    "### Loading network hyperparameters from file:"
   ]
  },
  {
   "cell_type": "code",
   "execution_count": null,
   "id": "damaged-alias",
   "metadata": {},
   "outputs": [],
   "source": [
    "with open(f\"{network_params_folder}/model_config_series_{series_number}.json\", 'r') as fp:\n",
    "    network_parameters = json.load(fp)\n",
    "    \n",
    "print(network_parameters)"
   ]
  },
  {
   "cell_type": "markdown",
   "id": "adf615b0",
   "metadata": {},
   "source": [
    "### Setting up the network using the ```model_factory```:"
   ]
  },
  {
   "cell_type": "code",
   "execution_count": null,
   "id": "friendly-bishop",
   "metadata": {},
   "outputs": [],
   "source": [
    "net, train_data_loader, val_data_loader, test_data_loader, optimizer =\\\n",
    "    model.model_factory(dataset, *model.separate_args(network_parameters))\n",
    "\n",
    "print(net)"
   ]
  },
  {
   "cell_type": "code",
   "execution_count": null,
   "id": "demographic-interference",
   "metadata": {},
   "outputs": [],
   "source": [
    "if load_net:\n",
    "    net.load_state_dict(torch.load(f\"{network_params_folder}/{saved_net_filename}\",\n",
    "                                   map_location=network_components.nn_device))"
   ]
  },
  {
   "cell_type": "markdown",
   "id": "4281a811",
   "metadata": {},
   "source": [
    "### If the flag ```train_net``` is set to True, the following code will result in the retraining of the network"
   ]
  },
  {
   "cell_type": "code",
   "execution_count": null,
   "id": "administrative-italic",
   "metadata": {},
   "outputs": [],
   "source": [
    "if train_net:\n",
    "    losses, accuracies, epoch = model.training_loop(net, train_data_loader, val_data_loader, optimizer,\n",
    "                                                    starting_epoch=0, num_epochs=120,\n",
    "                                                    losses=None, accuracies=None,\n",
    "                                                    save_checkpoint=save_net,\n",
    "                                                    starting_max_accuracy=max_accuracy,\n",
    "                                                    save_net_file_name=saved_net_filename)"
   ]
  },
  {
   "cell_type": "markdown",
   "id": "05a3976e",
   "metadata": {},
   "source": [
    "### Checking the prediction accuracy on the test set:"
   ]
  },
  {
   "cell_type": "code",
   "execution_count": null,
   "id": "industrial-marine",
   "metadata": {},
   "outputs": [],
   "source": [
    "test_metric = model.calc_metrics(net, test_data_loader)\n",
    "\n",
    "print(\"Test accuracy = {:5.2f}%\".format(test_metric['overall accuracy'] * 100.0))\n",
    "\n",
    "print()\n",
    "\n",
    "print(\"{:12s}\\t{}\\t{}\\t\\t{}\\t{}\\t{}\".format(\"Protein name\", \"Precision\", \"Recall\", \"F1-score\",\n",
    "                                            \"False positive\", \"False negative\"))\n",
    "print(\"-\" * 100)\n",
    "\n",
    "for protein_name in dataset.protein_names:\n",
    "    \n",
    "    protein_id = dataset.brightness_data[protein_name][\"ID\"]\n",
    "    \n",
    "    print(\"{:12s}\\t{:5.2f}\\t\\t{:5.2f}\\t\\t{:5.2f}\\t\\t{:5.2f}\\t\\t{:5.2f}\"\n",
    "          .format(protein_name,\n",
    "                  test_metric[\"precision\"][protein_id] * 100.0,\n",
    "                  test_metric[\"recall\"][protein_id] * 100.0,\n",
    "                  test_metric[\"F1-score\"][protein_id] * 100.0,\n",
    "                  test_metric[\"percent false positive\"][protein_id] * 100.0,\n",
    "                  test_metric[\"percent false negative\"][protein_id] * 100.0))"
   ]
  },
  {
   "cell_type": "markdown",
   "id": "91c40399",
   "metadata": {},
   "source": [
    "### Predicting nanobarcodes from example confocal images:"
   ]
  },
  {
   "cell_type": "code",
   "execution_count": null,
   "id": "beefb23a",
   "metadata": {},
   "outputs": [],
   "source": [
    "example_ind = 0\n",
    "\n",
    "# number of entropy minimization iterations used by the \"ContrastModifierNet\"\n",
    "n_optim_iter = 10\n",
    "\n",
    "example_files = ['GalNact_NL1b_CS2_P5_CH11_Gain550',\n",
    "                 'ENDO_NL1ab_CS2_P2_CH11_Gain550',\n",
    "                 'KDEL_NL4_CS1_P3_CH11_Gain550',\n",
    "                 'TOM70_NRXN3Beta-_CS1_P1_CH11_Gain550']\n",
    "\n",
    "fig, ax = plt.subplots(nrows=len(example_files), ncols=2, figsize=(10, 5 * len(example_files)))\n",
    "\n",
    "for i, _file in enumerate(example_files):\n",
    "\n",
    "    image_file_name = f\"{example_folder}/{_file}.lsm\"\n",
    "\n",
    "    result = model.predict_from_image_file(file_name=image_file_name, net=net,\n",
    "                                           dataset=dataset, n_optim_iter=n_optim_iter,\n",
    "                                           brightness_scaling_method=dataset_scaling)\n",
    "\n",
    "    ax[i, 0].imshow(result[\"unprocessed false-color stack\"][0, :, :] / 65535.0)\n",
    "    ax[i, 0].set_title(f\"Unprocessed false color image -- {result['protein name']}\", fontsize=12)\n",
    "    ax[i, 0].axis('off')\n",
    "\n",
    "    ax[i, 1].imshow(result[\"cell-halo false-color stack\"][0, :, :] / 65535.0)\n",
    "    ax[i, 1].set_title(f\"False color + cell halos (network prediction) -- {result['protein name']}\", fontsize=12)\n",
    "    ax[i, 1].axis('off')"
   ]
  },
  {
   "cell_type": "code",
   "execution_count": null,
   "id": "theoretical-access",
   "metadata": {},
   "outputs": [],
   "source": []
  },
  {
   "cell_type": "code",
   "execution_count": null,
   "id": "21a9330e-ccd7-4947-9b96-96f8a875137a",
   "metadata": {},
   "outputs": [],
   "source": []
  }
 ],
 "metadata": {
  "kernelspec": {
   "display_name": "Python 3 (ipykernel)",
   "language": "python",
   "name": "python3"
  },
  "language_info": {
   "codemirror_mode": {
    "name": "ipython",
    "version": 3
   },
   "file_extension": ".py",
   "mimetype": "text/x-python",
   "name": "python",
   "nbconvert_exporter": "python",
   "pygments_lexer": "ipython3",
   "version": "3.8.18"
  }
 },
 "nbformat": 4,
 "nbformat_minor": 5
}
